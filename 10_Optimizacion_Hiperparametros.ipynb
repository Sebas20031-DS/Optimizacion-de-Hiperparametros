{
  "cells": [
    {
      "cell_type": "markdown",
      "metadata": {
        "id": "0FWdChueUdBp"
      },
      "source": [
        "<a href=\"https://colab.research.google.com/github/andres-merino/AprendizajeAutomaticoInicial-05-N0105/blob/main/2-Ejercicios/10-Optimizacion-Hiperparametros.ipynb\" target=\"_parent\"><img src=\"https://colab.research.google.com/assets/colab-badge.svg\" alt=\"Open In Colab\"/></a>"
      ]
    },
    {
      "cell_type": "markdown",
      "metadata": {
        "id": "9FvwPGh-UdBr"
      },
      "source": [
        "<table style=\"border: none; border-collapse: collapse;\">\n",
        "    <tr>\n",
        "        <td style=\"width: 20%; vertical-align: middle; padding-right: 10px;\">\n",
        "            <img src=\"https://i.imgur.com/nt7hloA.png\" width=\"100\">\n",
        "        </td>\n",
        "        <td style=\"width: 2px; text-align: center;\">\n",
        "            <font color=\"#0030A1\" size=\"7\">|</font><br>\n",
        "            <font color=\"#0030A1\" size=\"7\">|</font>\n",
        "        </td>\n",
        "        <td>\n",
        "            <p style=\"font-variant: small-caps;\"><font color=\"#0030A1\" size=\"5\">\n",
        "                <b>Escuela de Ciencias Físicas y Matemática</b>\n",
        "            </font> </p>\n",
        "            <p style=\"font-variant: small-caps;\"><font color=\"#0030A1\" size=\"4\">\n",
        "                Aprendizaje Automático Inicial &bull; Optmización de Hiperparámetros\n",
        "            </font></p>\n",
        "            <p style=\"font-style: oblique;\"><font color=\"#0030A1\" size=\"3\">\n",
        "                Sebastián Reyes &bull; 2024-02\n",
        "            </font></p>\n",
        "        </td>  \n",
        "    </tr>\n",
        "</table>"
      ]
    },
    {
      "cell_type": "markdown",
      "metadata": {
        "id": "Ydn48cLYUdBs"
      },
      "source": [
        "---\n",
        "## <font color='264CC7'> Introducción </font>\n",
        "\n",
        "A lo largo de este taller, aplicaremos optimización de hiperparámetros en un modelo que elijas."
      ]
    },
    {
      "cell_type": "markdown",
      "metadata": {
        "id": "ujmof_dyUdBt"
      },
      "source": [
        "Los paquetes necesarios son:"
      ]
    },
    {
      "cell_type": "code",
      "execution_count": 21,
      "metadata": {
        "id": "uTnJFBhZUdBt"
      },
      "outputs": [],
      "source": [
        "# Paquetes necesarios\n",
        "import kagglehub\n",
        "import pandas as pd\n",
        "import matplotlib.pyplot as plt\n",
        "import joblib  # Para guardar el modelo\n",
        "\n",
        "from sklearn.preprocessing import StandardScaler\n",
        "from sklearn.model_selection import train_test_split, GridSearchCV, RandomizedSearchCV\n",
        "from sklearn.metrics import accuracy_score, confusion_matrix, classification_report\n",
        "from sklearn.neighbors import KNeighborsClassifier"
      ]
    },
    {
      "cell_type": "markdown",
      "metadata": {
        "id": "Nvzz4n5OUdBu"
      },
      "source": [
        "---\n",
        "## <font color='264CC7'> Clasificación </font>"
      ]
    },
    {
      "cell_type": "markdown",
      "metadata": {
        "id": "xYuzsX3QUdBu"
      },
      "source": [
        "\n",
        "### <font color='264CC7'> Preprocesamiento de datos </font>"
      ]
    },
    {
      "cell_type": "markdown",
      "metadata": {
        "id": "UQb8r6L9UdBv"
      },
      "source": [
        "Primero necesitas el conjunto de datos. Los datos a utilzar son los seleccionados en la clase anterior.\n",
        "\n",
        "<div style=\"background-color: #edf1f8; border-color: #264CC7; border-left: 5px solid #264CC7; padding: 0.5em;\">\n",
        "<strong>Ejercicio:</strong><br>\n",
        "    Carga el conjunto de datos y procésalos:\n",
        "<ul>\n",
        "  <li>Muestra algunos datos.</li>\n",
        "  <li>Muestra una descripción de los datos.</li>\n",
        "  <li>Escala los datos si es necesario.</li>\n",
        "</ul>\n",
        "</div>"
      ]
    },
    {
      "cell_type": "code",
      "execution_count": 8,
      "metadata": {
        "id": "NsvB0kCvUdBv",
        "outputId": "dcdbeb38-e7fc-4a71-9408-cf437d983ea7",
        "colab": {
          "base_uri": "https://localhost:8080/",
          "height": 308
        }
      },
      "outputs": [
        {
          "output_type": "stream",
          "name": "stdout",
          "text": [
            "🔍 Exploración Inicial de Datos:\n",
            "\n",
            "📊 Primeros 5 Registros:\n"
          ]
        },
        {
          "output_type": "display_data",
          "data": {
            "text/plain": [
              "     ID  Year_Birth   Education Marital_Status   Income  Kidhome  Teenhome  \\\n",
              "0  5524        1957  Graduation         Single  58138.0        0         0   \n",
              "1  2174        1954  Graduation         Single  46344.0        1         1   \n",
              "2  4141        1965  Graduation       Together  71613.0        0         0   \n",
              "3  6182        1984  Graduation       Together  26646.0        1         0   \n",
              "4  5324        1981         PhD        Married  58293.0        1         0   \n",
              "\n",
              "  Dt_Customer  Recency  MntWines  ...  NumWebVisitsMonth  AcceptedCmp3  \\\n",
              "0  04-09-2012       58       635  ...                  7             0   \n",
              "1  08-03-2014       38        11  ...                  5             0   \n",
              "2  21-08-2013       26       426  ...                  4             0   \n",
              "3  10-02-2014       26        11  ...                  6             0   \n",
              "4  19-01-2014       94       173  ...                  5             0   \n",
              "\n",
              "   AcceptedCmp4  AcceptedCmp5  AcceptedCmp1  AcceptedCmp2  Complain  \\\n",
              "0             0             0             0             0         0   \n",
              "1             0             0             0             0         0   \n",
              "2             0             0             0             0         0   \n",
              "3             0             0             0             0         0   \n",
              "4             0             0             0             0         0   \n",
              "\n",
              "   Z_CostContact  Z_Revenue  Response  \n",
              "0              3         11         1  \n",
              "1              3         11         0  \n",
              "2              3         11         0  \n",
              "3              3         11         0  \n",
              "4              3         11         0  \n",
              "\n",
              "[5 rows x 29 columns]"
            ],
            "text/html": [
              "\n",
              "  <div id=\"df-3d6f7f53-791a-49ff-8751-a7101d93e2b2\" class=\"colab-df-container\">\n",
              "    <div>\n",
              "<style scoped>\n",
              "    .dataframe tbody tr th:only-of-type {\n",
              "        vertical-align: middle;\n",
              "    }\n",
              "\n",
              "    .dataframe tbody tr th {\n",
              "        vertical-align: top;\n",
              "    }\n",
              "\n",
              "    .dataframe thead th {\n",
              "        text-align: right;\n",
              "    }\n",
              "</style>\n",
              "<table border=\"1\" class=\"dataframe\">\n",
              "  <thead>\n",
              "    <tr style=\"text-align: right;\">\n",
              "      <th></th>\n",
              "      <th>ID</th>\n",
              "      <th>Year_Birth</th>\n",
              "      <th>Education</th>\n",
              "      <th>Marital_Status</th>\n",
              "      <th>Income</th>\n",
              "      <th>Kidhome</th>\n",
              "      <th>Teenhome</th>\n",
              "      <th>Dt_Customer</th>\n",
              "      <th>Recency</th>\n",
              "      <th>MntWines</th>\n",
              "      <th>...</th>\n",
              "      <th>NumWebVisitsMonth</th>\n",
              "      <th>AcceptedCmp3</th>\n",
              "      <th>AcceptedCmp4</th>\n",
              "      <th>AcceptedCmp5</th>\n",
              "      <th>AcceptedCmp1</th>\n",
              "      <th>AcceptedCmp2</th>\n",
              "      <th>Complain</th>\n",
              "      <th>Z_CostContact</th>\n",
              "      <th>Z_Revenue</th>\n",
              "      <th>Response</th>\n",
              "    </tr>\n",
              "  </thead>\n",
              "  <tbody>\n",
              "    <tr>\n",
              "      <th>0</th>\n",
              "      <td>5524</td>\n",
              "      <td>1957</td>\n",
              "      <td>Graduation</td>\n",
              "      <td>Single</td>\n",
              "      <td>58138.0</td>\n",
              "      <td>0</td>\n",
              "      <td>0</td>\n",
              "      <td>04-09-2012</td>\n",
              "      <td>58</td>\n",
              "      <td>635</td>\n",
              "      <td>...</td>\n",
              "      <td>7</td>\n",
              "      <td>0</td>\n",
              "      <td>0</td>\n",
              "      <td>0</td>\n",
              "      <td>0</td>\n",
              "      <td>0</td>\n",
              "      <td>0</td>\n",
              "      <td>3</td>\n",
              "      <td>11</td>\n",
              "      <td>1</td>\n",
              "    </tr>\n",
              "    <tr>\n",
              "      <th>1</th>\n",
              "      <td>2174</td>\n",
              "      <td>1954</td>\n",
              "      <td>Graduation</td>\n",
              "      <td>Single</td>\n",
              "      <td>46344.0</td>\n",
              "      <td>1</td>\n",
              "      <td>1</td>\n",
              "      <td>08-03-2014</td>\n",
              "      <td>38</td>\n",
              "      <td>11</td>\n",
              "      <td>...</td>\n",
              "      <td>5</td>\n",
              "      <td>0</td>\n",
              "      <td>0</td>\n",
              "      <td>0</td>\n",
              "      <td>0</td>\n",
              "      <td>0</td>\n",
              "      <td>0</td>\n",
              "      <td>3</td>\n",
              "      <td>11</td>\n",
              "      <td>0</td>\n",
              "    </tr>\n",
              "    <tr>\n",
              "      <th>2</th>\n",
              "      <td>4141</td>\n",
              "      <td>1965</td>\n",
              "      <td>Graduation</td>\n",
              "      <td>Together</td>\n",
              "      <td>71613.0</td>\n",
              "      <td>0</td>\n",
              "      <td>0</td>\n",
              "      <td>21-08-2013</td>\n",
              "      <td>26</td>\n",
              "      <td>426</td>\n",
              "      <td>...</td>\n",
              "      <td>4</td>\n",
              "      <td>0</td>\n",
              "      <td>0</td>\n",
              "      <td>0</td>\n",
              "      <td>0</td>\n",
              "      <td>0</td>\n",
              "      <td>0</td>\n",
              "      <td>3</td>\n",
              "      <td>11</td>\n",
              "      <td>0</td>\n",
              "    </tr>\n",
              "    <tr>\n",
              "      <th>3</th>\n",
              "      <td>6182</td>\n",
              "      <td>1984</td>\n",
              "      <td>Graduation</td>\n",
              "      <td>Together</td>\n",
              "      <td>26646.0</td>\n",
              "      <td>1</td>\n",
              "      <td>0</td>\n",
              "      <td>10-02-2014</td>\n",
              "      <td>26</td>\n",
              "      <td>11</td>\n",
              "      <td>...</td>\n",
              "      <td>6</td>\n",
              "      <td>0</td>\n",
              "      <td>0</td>\n",
              "      <td>0</td>\n",
              "      <td>0</td>\n",
              "      <td>0</td>\n",
              "      <td>0</td>\n",
              "      <td>3</td>\n",
              "      <td>11</td>\n",
              "      <td>0</td>\n",
              "    </tr>\n",
              "    <tr>\n",
              "      <th>4</th>\n",
              "      <td>5324</td>\n",
              "      <td>1981</td>\n",
              "      <td>PhD</td>\n",
              "      <td>Married</td>\n",
              "      <td>58293.0</td>\n",
              "      <td>1</td>\n",
              "      <td>0</td>\n",
              "      <td>19-01-2014</td>\n",
              "      <td>94</td>\n",
              "      <td>173</td>\n",
              "      <td>...</td>\n",
              "      <td>5</td>\n",
              "      <td>0</td>\n",
              "      <td>0</td>\n",
              "      <td>0</td>\n",
              "      <td>0</td>\n",
              "      <td>0</td>\n",
              "      <td>0</td>\n",
              "      <td>3</td>\n",
              "      <td>11</td>\n",
              "      <td>0</td>\n",
              "    </tr>\n",
              "  </tbody>\n",
              "</table>\n",
              "<p>5 rows × 29 columns</p>\n",
              "</div>\n",
              "    <div class=\"colab-df-buttons\">\n",
              "\n",
              "  <div class=\"colab-df-container\">\n",
              "    <button class=\"colab-df-convert\" onclick=\"convertToInteractive('df-3d6f7f53-791a-49ff-8751-a7101d93e2b2')\"\n",
              "            title=\"Convert this dataframe to an interactive table.\"\n",
              "            style=\"display:none;\">\n",
              "\n",
              "  <svg xmlns=\"http://www.w3.org/2000/svg\" height=\"24px\" viewBox=\"0 -960 960 960\">\n",
              "    <path d=\"M120-120v-720h720v720H120Zm60-500h600v-160H180v160Zm220 220h160v-160H400v160Zm0 220h160v-160H400v160ZM180-400h160v-160H180v160Zm440 0h160v-160H620v160ZM180-180h160v-160H180v160Zm440 0h160v-160H620v160Z\"/>\n",
              "  </svg>\n",
              "    </button>\n",
              "\n",
              "  <style>\n",
              "    .colab-df-container {\n",
              "      display:flex;\n",
              "      gap: 12px;\n",
              "    }\n",
              "\n",
              "    .colab-df-convert {\n",
              "      background-color: #E8F0FE;\n",
              "      border: none;\n",
              "      border-radius: 50%;\n",
              "      cursor: pointer;\n",
              "      display: none;\n",
              "      fill: #1967D2;\n",
              "      height: 32px;\n",
              "      padding: 0 0 0 0;\n",
              "      width: 32px;\n",
              "    }\n",
              "\n",
              "    .colab-df-convert:hover {\n",
              "      background-color: #E2EBFA;\n",
              "      box-shadow: 0px 1px 2px rgba(60, 64, 67, 0.3), 0px 1px 3px 1px rgba(60, 64, 67, 0.15);\n",
              "      fill: #174EA6;\n",
              "    }\n",
              "\n",
              "    .colab-df-buttons div {\n",
              "      margin-bottom: 4px;\n",
              "    }\n",
              "\n",
              "    [theme=dark] .colab-df-convert {\n",
              "      background-color: #3B4455;\n",
              "      fill: #D2E3FC;\n",
              "    }\n",
              "\n",
              "    [theme=dark] .colab-df-convert:hover {\n",
              "      background-color: #434B5C;\n",
              "      box-shadow: 0px 1px 3px 1px rgba(0, 0, 0, 0.15);\n",
              "      filter: drop-shadow(0px 1px 2px rgba(0, 0, 0, 0.3));\n",
              "      fill: #FFFFFF;\n",
              "    }\n",
              "  </style>\n",
              "\n",
              "    <script>\n",
              "      const buttonEl =\n",
              "        document.querySelector('#df-3d6f7f53-791a-49ff-8751-a7101d93e2b2 button.colab-df-convert');\n",
              "      buttonEl.style.display =\n",
              "        google.colab.kernel.accessAllowed ? 'block' : 'none';\n",
              "\n",
              "      async function convertToInteractive(key) {\n",
              "        const element = document.querySelector('#df-3d6f7f53-791a-49ff-8751-a7101d93e2b2');\n",
              "        const dataTable =\n",
              "          await google.colab.kernel.invokeFunction('convertToInteractive',\n",
              "                                                    [key], {});\n",
              "        if (!dataTable) return;\n",
              "\n",
              "        const docLinkHtml = 'Like what you see? Visit the ' +\n",
              "          '<a target=\"_blank\" href=https://colab.research.google.com/notebooks/data_table.ipynb>data table notebook</a>'\n",
              "          + ' to learn more about interactive tables.';\n",
              "        element.innerHTML = '';\n",
              "        dataTable['output_type'] = 'display_data';\n",
              "        await google.colab.output.renderOutput(dataTable, element);\n",
              "        const docLink = document.createElement('div');\n",
              "        docLink.innerHTML = docLinkHtml;\n",
              "        element.appendChild(docLink);\n",
              "      }\n",
              "    </script>\n",
              "  </div>\n",
              "\n",
              "\n",
              "<div id=\"df-4d900f8f-6bd4-4bfa-b765-797106edec06\">\n",
              "  <button class=\"colab-df-quickchart\" onclick=\"quickchart('df-4d900f8f-6bd4-4bfa-b765-797106edec06')\"\n",
              "            title=\"Suggest charts\"\n",
              "            style=\"display:none;\">\n",
              "\n",
              "<svg xmlns=\"http://www.w3.org/2000/svg\" height=\"24px\"viewBox=\"0 0 24 24\"\n",
              "     width=\"24px\">\n",
              "    <g>\n",
              "        <path d=\"M19 3H5c-1.1 0-2 .9-2 2v14c0 1.1.9 2 2 2h14c1.1 0 2-.9 2-2V5c0-1.1-.9-2-2-2zM9 17H7v-7h2v7zm4 0h-2V7h2v10zm4 0h-2v-4h2v4z\"/>\n",
              "    </g>\n",
              "</svg>\n",
              "  </button>\n",
              "\n",
              "<style>\n",
              "  .colab-df-quickchart {\n",
              "      --bg-color: #E8F0FE;\n",
              "      --fill-color: #1967D2;\n",
              "      --hover-bg-color: #E2EBFA;\n",
              "      --hover-fill-color: #174EA6;\n",
              "      --disabled-fill-color: #AAA;\n",
              "      --disabled-bg-color: #DDD;\n",
              "  }\n",
              "\n",
              "  [theme=dark] .colab-df-quickchart {\n",
              "      --bg-color: #3B4455;\n",
              "      --fill-color: #D2E3FC;\n",
              "      --hover-bg-color: #434B5C;\n",
              "      --hover-fill-color: #FFFFFF;\n",
              "      --disabled-bg-color: #3B4455;\n",
              "      --disabled-fill-color: #666;\n",
              "  }\n",
              "\n",
              "  .colab-df-quickchart {\n",
              "    background-color: var(--bg-color);\n",
              "    border: none;\n",
              "    border-radius: 50%;\n",
              "    cursor: pointer;\n",
              "    display: none;\n",
              "    fill: var(--fill-color);\n",
              "    height: 32px;\n",
              "    padding: 0;\n",
              "    width: 32px;\n",
              "  }\n",
              "\n",
              "  .colab-df-quickchart:hover {\n",
              "    background-color: var(--hover-bg-color);\n",
              "    box-shadow: 0 1px 2px rgba(60, 64, 67, 0.3), 0 1px 3px 1px rgba(60, 64, 67, 0.15);\n",
              "    fill: var(--button-hover-fill-color);\n",
              "  }\n",
              "\n",
              "  .colab-df-quickchart-complete:disabled,\n",
              "  .colab-df-quickchart-complete:disabled:hover {\n",
              "    background-color: var(--disabled-bg-color);\n",
              "    fill: var(--disabled-fill-color);\n",
              "    box-shadow: none;\n",
              "  }\n",
              "\n",
              "  .colab-df-spinner {\n",
              "    border: 2px solid var(--fill-color);\n",
              "    border-color: transparent;\n",
              "    border-bottom-color: var(--fill-color);\n",
              "    animation:\n",
              "      spin 1s steps(1) infinite;\n",
              "  }\n",
              "\n",
              "  @keyframes spin {\n",
              "    0% {\n",
              "      border-color: transparent;\n",
              "      border-bottom-color: var(--fill-color);\n",
              "      border-left-color: var(--fill-color);\n",
              "    }\n",
              "    20% {\n",
              "      border-color: transparent;\n",
              "      border-left-color: var(--fill-color);\n",
              "      border-top-color: var(--fill-color);\n",
              "    }\n",
              "    30% {\n",
              "      border-color: transparent;\n",
              "      border-left-color: var(--fill-color);\n",
              "      border-top-color: var(--fill-color);\n",
              "      border-right-color: var(--fill-color);\n",
              "    }\n",
              "    40% {\n",
              "      border-color: transparent;\n",
              "      border-right-color: var(--fill-color);\n",
              "      border-top-color: var(--fill-color);\n",
              "    }\n",
              "    60% {\n",
              "      border-color: transparent;\n",
              "      border-right-color: var(--fill-color);\n",
              "    }\n",
              "    80% {\n",
              "      border-color: transparent;\n",
              "      border-right-color: var(--fill-color);\n",
              "      border-bottom-color: var(--fill-color);\n",
              "    }\n",
              "    90% {\n",
              "      border-color: transparent;\n",
              "      border-bottom-color: var(--fill-color);\n",
              "    }\n",
              "  }\n",
              "</style>\n",
              "\n",
              "  <script>\n",
              "    async function quickchart(key) {\n",
              "      const quickchartButtonEl =\n",
              "        document.querySelector('#' + key + ' button');\n",
              "      quickchartButtonEl.disabled = true;  // To prevent multiple clicks.\n",
              "      quickchartButtonEl.classList.add('colab-df-spinner');\n",
              "      try {\n",
              "        const charts = await google.colab.kernel.invokeFunction(\n",
              "            'suggestCharts', [key], {});\n",
              "      } catch (error) {\n",
              "        console.error('Error during call to suggestCharts:', error);\n",
              "      }\n",
              "      quickchartButtonEl.classList.remove('colab-df-spinner');\n",
              "      quickchartButtonEl.classList.add('colab-df-quickchart-complete');\n",
              "    }\n",
              "    (() => {\n",
              "      let quickchartButtonEl =\n",
              "        document.querySelector('#df-4d900f8f-6bd4-4bfa-b765-797106edec06 button');\n",
              "      quickchartButtonEl.style.display =\n",
              "        google.colab.kernel.accessAllowed ? 'block' : 'none';\n",
              "    })();\n",
              "  </script>\n",
              "</div>\n",
              "\n",
              "    </div>\n",
              "  </div>\n"
            ],
            "application/vnd.google.colaboratory.intrinsic+json": {
              "type": "dataframe"
            }
          },
          "metadata": {}
        }
      ],
      "source": [
        "# Descargar el conjunto de datos\n",
        "path = kagglehub.dataset_download(\"imakash3011/customer-personality-analysis\")\n",
        "\n",
        "# Cargar el conjunto de datos\n",
        "df = pd.read_csv(f\"{path}/marketing_campaign.csv\", sep=\"\\t\")\n",
        "\n",
        "# Exploración de Datos\n",
        "print(\"🔍 Exploración Inicial de Datos:\\n\")\n",
        "\n",
        "# Primeros registros con display\n",
        "print(\"📊 Primeros 5 Registros:\")\n",
        "display(df.head())"
      ]
    },
    {
      "cell_type": "code",
      "source": [
        "# Selección de variables relevantes\n",
        "variables = [\n",
        "    \"Income\", \"MntWines\", \"MntFruits\", \"MntMeatProducts\",\n",
        "    \"MntFishProducts\", \"MntSweetProducts\", \"MntGoldProds\",\n",
        "    \"NumDealsPurchases\", \"NumWebPurchases\", \"NumCatalogPurchases\",\n",
        "    \"NumStorePurchases\", \"NumWebVisitsMonth\"\n",
        "]\n",
        "\n",
        "target = \"Response\"\n",
        "\n",
        "# Limpieza inicial: Eliminación de filas con valores faltantes\n",
        "df = df.dropna(subset=variables + [target])\n",
        "\n",
        "# División en características y etiquetas\n",
        "X = df[variables]\n",
        "y = df[target]\n",
        "\n",
        "# Escalamiento de las variables\n",
        "scaler = StandardScaler()\n",
        "X_scaled = scaler.fit_transform(X)\n",
        "\n",
        "# División del conjunto en entrenamiento y prueba\n",
        "X_train, X_test, y_train, y_test = train_test_split(\n",
        "    X_scaled, y, test_size=0.2, random_state=42, stratify=y\n",
        ")\n",
        "\n",
        "print(f\"Tamaño del conjunto de entrenamiento: {X_train.shape}\")\n",
        "print(f\"Tamaño del conjunto de prueba: {X_test.shape}\")"
      ],
      "metadata": {
        "id": "skLoLt7GWy-D",
        "outputId": "f34516d5-1845-4463-eb34-325b1c5ab1ba",
        "colab": {
          "base_uri": "https://localhost:8080/"
        }
      },
      "execution_count": 12,
      "outputs": [
        {
          "output_type": "stream",
          "name": "stdout",
          "text": [
            "Tamaño del conjunto de entrenamiento: (1772, 12)\n",
            "Tamaño del conjunto de prueba: (444, 12)\n"
          ]
        }
      ]
    },
    {
      "cell_type": "markdown",
      "metadata": {
        "id": "rRtL6criUdBv"
      },
      "source": [
        "\n",
        "### <font color='264CC7'> Modelo </font>\n"
      ]
    },
    {
      "cell_type": "markdown",
      "metadata": {
        "id": "RPWt1oMNUdBw"
      },
      "source": [
        "<div style=\"background-color: #edf1f8; border-color: #264CC7; border-left: 5px solid #264CC7; padding: 0.5em;\">\n",
        "<strong>Ejercicio:</strong><br>\n",
        "    Selecciona el mejor modelo de las clases anteriores.\n",
        "<ul>\n",
        "  <li>Muestra los hiperparámetros del modelo.</li>\n",
        "  <li>Consulta qué significan al menos 4 hiperparámetros.</li>\n",
        "  <li>Selecciona los hiperparámetros que deseas optimizar, al menos 3.</li>\n",
        "</ul>\n",
        "</div>"
      ]
    },
    {
      "cell_type": "code",
      "execution_count": 15,
      "metadata": {
        "id": "OEX_Zx9jUdBw",
        "outputId": "21f5eb71-7629-4733-a6fa-207b9035e599",
        "colab": {
          "base_uri": "https://localhost:8080/"
        }
      },
      "outputs": [
        {
          "output_type": "stream",
          "name": "stdout",
          "text": [
            "📊 Métricas del modelo inicial:\n",
            "Precisión: 0.87\n",
            "\n",
            "Matriz de Confusión:\n",
            "[[376   1]\n",
            " [ 57  10]]\n",
            "\n",
            "Reporte de Clasificación:\n",
            "              precision    recall  f1-score   support\n",
            "\n",
            "           0       0.87      1.00      0.93       377\n",
            "           1       0.91      0.15      0.26        67\n",
            "\n",
            "    accuracy                           0.87       444\n",
            "   macro avg       0.89      0.57      0.59       444\n",
            "weighted avg       0.87      0.87      0.83       444\n",
            "\n"
          ]
        }
      ],
      "source": [
        "# Modelo inicial con k=9\n",
        "knn_optimal = KNeighborsClassifier(n_neighbors=9)\n",
        "knn_optimal.fit(X_train, y_train)\n",
        "y_test_pred = knn_optimal.predict(X_test)\n",
        "\n",
        "# Mostrar métricas del modelo\n",
        "print(\"📊 Métricas del modelo inicial:\")\n",
        "print(f\"Precisión: {accuracy_score(y_test, y_test_pred):.2f}\")\n",
        "print(\"\\nMatriz de Confusión:\")\n",
        "print(confusion_matrix(y_test, y_test_pred))\n",
        "print(\"\\nReporte de Clasificación:\")\n",
        "print(classification_report(y_test, y_test_pred))"
      ]
    },
    {
      "cell_type": "markdown",
      "metadata": {
        "id": "SnSv63u_UdBw"
      },
      "source": [
        "# Optimización de Hiperparámetros con GridSearch\n",
        "\n",
        "## Significado de 4 Hiperparámetros del Modelo k-NN\n",
        "\n",
        "1. **`n_neighbors`**:\n",
        "   - Especifica el número de vecinos más cercanos que el modelo considerará para tomar una decisión de clasificación o regresión.\n",
        "   - Un valor bajo hace que el modelo sea más sensible al ruido, mientras que uno alto genera un modelo más generalizado.\n",
        "\n",
        "2. **`weights`**:\n",
        "   - Determina cómo se ponderan los vecinos para la decisión final.\n",
        "     - `'uniform'`: Cada vecino contribuye de manera equitativa.\n",
        "     - `'distance'`: Los vecinos más cercanos tienen mayor peso.\n",
        "     - Función personalizada: Se puede definir una regla específica de ponderación.\n",
        "\n",
        "3. **`metric`**:\n",
        "   - Especifica la fórmula matemática que se utiliza para calcular la distancia entre puntos. Algunos valores comunes son:\n",
        "     - `'euclidean'`: Distancia euclidiana.\n",
        "     - `'manhattan'`: Distancia de Manhattan (suma de diferencias absolutas).\n",
        "     - `'minkowski'`: Generalización de ambas distancias con un parámetro \\( p \\).\n",
        "\n",
        "4. **`p`**:\n",
        "   - Es un hiperparámetro asociado con la métrica `'minkowski'`.\n",
        "     - \\( p = 1 \\): Distancia de Manhattan.\n",
        "     - \\( p = 2 \\): Distancia euclidiana.\n",
        "   - Define el grado de la norma utilizada en el cálculo de la distancia.\n",
        "\n",
        "---\n",
        "\n",
        "## Hiperparámetros Seleccionados para Optimizar\n",
        "\n",
        "Para optimizar el modelo k-NN, los siguientes hiperparámetros serán seleccionados:\n",
        "\n",
        "1. **`n_neighbors`**:\n",
        "   - Valores a probar: `[5, 7, 9, 11, 13]`.\n",
        "\n",
        "2. **`weights`**:\n",
        "   - Métodos de ponderación: `['uniform', 'distance']`.\n",
        "\n",
        "3. **`metric`**:\n",
        "   - Métricas de distancia: `['euclidean', 'manhattan', 'minkowski']`.\n",
        "\n",
        "4. **`p`**:\n",
        "   - Solo se aplica cuando se utiliza `'minkowski'`.\n",
        "   - Valores a probar: `[1, 2]`.\n",
        "\n",
        "\n"
      ]
    },
    {
      "cell_type": "markdown",
      "metadata": {
        "id": "u14Nrv6OUdBw"
      },
      "source": [
        "### <font color='264CC7'> Optimización por GridSearch </font>"
      ]
    },
    {
      "cell_type": "markdown",
      "metadata": {
        "id": "4CjwdLBrUdBw"
      },
      "source": [
        "<div style=\"background-color: #edf1f8; border-color: #264CC7; border-left: 5px solid #264CC7; padding: 0.5em;\">\n",
        "<strong>Ejercicio:</strong><br>\n",
        "    Aplica GridSearch para optimizar los hiperparámetros del modelo.\n",
        "<ul>\n",
        "  <li>Para cada hiperparámetro, selecciona al menos 3 valores, si es posible.</li>\n",
        "  <li>Utiliza al menos 5 validaciones cruzadas.</li>\n",
        "  <li>Muestra los parámetros óptimos y su score.</li>\n",
        "</ul>\n",
        "</div>"
      ]
    },
    {
      "cell_type": "code",
      "execution_count": 17,
      "metadata": {
        "id": "OTslSdEkUdBw",
        "outputId": "9c6f6bc7-57aa-4646-eace-7ead2dced823",
        "colab": {
          "base_uri": "https://localhost:8080/"
        }
      },
      "outputs": [
        {
          "output_type": "stream",
          "name": "stdout",
          "text": [
            "Fitting 5 folds for each of 60 candidates, totalling 300 fits\n",
            "\n",
            "Mejores hiperparámetros encontrados:\n",
            "{'metric': 'manhattan', 'n_neighbors': 13, 'p': 1, 'weights': 'distance'}\n",
            "\n",
            "Mejor precisión en validación cruzada: 0.86\n",
            "\n",
            "📊 Métricas del modelo optimizado en el conjunto de prueba:\n",
            "Precisión: 0.87\n",
            "\n",
            "Reporte de Clasificación:\n",
            "              precision    recall  f1-score   support\n",
            "\n",
            "           0       0.87      0.99      0.93       377\n",
            "           1       0.79      0.16      0.27        67\n",
            "\n",
            "    accuracy                           0.87       444\n",
            "   macro avg       0.83      0.58      0.60       444\n",
            "weighted avg       0.86      0.87      0.83       444\n",
            "\n"
          ]
        }
      ],
      "source": [
        "# Configuración de hiperparámetros para Grid Search\n",
        "param_grid = {\n",
        "    \"n_neighbors\": [5, 7, 9, 11, 13],  # Valores para el número de vecinos\n",
        "    \"weights\": [\"uniform\", \"distance\"],  # Métodos de ponderación\n",
        "    \"metric\": [\"euclidean\", \"manhattan\", \"minkowski\"],  # Distancias\n",
        "    \"p\": [1, 2]  # Parámetro p para 'minkowski' (1: Manhattan, 2: Euclidiana)\n",
        "}\n",
        "\n",
        "# Configurar y ejecutar Grid Search con 5 validaciones cruzadas\n",
        "grid_search = GridSearchCV(\n",
        "    estimator=KNeighborsClassifier(),\n",
        "    param_grid=param_grid,\n",
        "    scoring=\"accuracy\",\n",
        "    cv=5,  # Número de validaciones cruzadas\n",
        "    verbose=1,\n",
        "    n_jobs=-1  # Usar todos los núcleos disponibles para acelerar\n",
        ")\n",
        "\n",
        "grid_search.fit(X_train, y_train)\n",
        "\n",
        "# Mostrar resultados de la optimización\n",
        "print(\"\\nMejores hiperparámetros encontrados:\")\n",
        "print(grid_search.best_params_)\n",
        "\n",
        "print(f\"\\nMejor precisión en validación cruzada: {grid_search.best_score_:.2f}\")\n",
        "\n",
        "# Evaluar el modelo optimizado en el conjunto de prueba\n",
        "best_model = grid_search.best_estimator_\n",
        "y_test_pred_optimized = best_model.predict(X_test)\n",
        "\n",
        "# Mostrar métricas del modelo optimizado\n",
        "print(\"\\n📊 Métricas del modelo optimizado en el conjunto de prueba:\")\n",
        "print(f\"Precisión: {accuracy_score(y_test, y_test_pred_optimized):.2f}\")\n",
        "print(\"\\nReporte de Clasificación:\")\n",
        "print(classification_report(y_test, y_test_pred_optimized))"
      ]
    },
    {
      "cell_type": "markdown",
      "metadata": {
        "id": "kxyFfSrmUdBw"
      },
      "source": [
        "### <font color='264CC7'> Optimización por RandomSearch </font>"
      ]
    },
    {
      "cell_type": "markdown",
      "metadata": {
        "id": "23WZpG44UdBx"
      },
      "source": [
        "<div style=\"background-color: #edf1f8; border-color: #264CC7; border-left: 5px solid #264CC7; padding: 0.5em;\">\n",
        "<strong>Ejercicio:</strong><br>\n",
        "    Aplica RandomSearch para optimizar los hiperparámetros del modelo.\n",
        "<ul>\n",
        "  <li>Para cada hiperparámetro, selecciona al menos 5 valores, si es posible.</li>\n",
        "  <li>Utiliza al menos 5 validaciones cruzadas.</li>\n",
        "  <li>Usa RandomSearchCV con 25 iteraciones.</li>\n",
        "  <li>Muestra los parámetros óptimos y su score.</li>\n",
        "</ul>\n",
        "</div>"
      ]
    },
    {
      "cell_type": "code",
      "execution_count": 20,
      "metadata": {
        "id": "LhAGAKAIUdBx",
        "outputId": "d965e459-f40e-4cf1-d76b-a3251aafe304",
        "colab": {
          "base_uri": "https://localhost:8080/"
        }
      },
      "outputs": [
        {
          "output_type": "stream",
          "name": "stdout",
          "text": [
            "Fitting 5 folds for each of 25 candidates, totalling 125 fits\n",
            "\n",
            "Mejores hiperparámetros encontrados:\n",
            "{'weights': 'distance', 'p': 4, 'n_neighbors': 15, 'metric': 'minkowski'}\n",
            "\n",
            "Mejor precisión en validación cruzada: 0.86\n",
            "\n",
            "📊 Métricas del modelo optimizado en el conjunto de prueba:\n",
            "Precisión: 0.87\n",
            "\n",
            "Reporte de Clasificación:\n",
            "              precision    recall  f1-score   support\n",
            "\n",
            "           0       0.87      0.99      0.93       377\n",
            "           1       0.83      0.15      0.25        67\n",
            "\n",
            "    accuracy                           0.87       444\n",
            "   macro avg       0.85      0.57      0.59       444\n",
            "weighted avg       0.86      0.87      0.83       444\n",
            "\n"
          ]
        }
      ],
      "source": [
        "# Configuración de hiperparámetros para RandomizedSearchCV\n",
        "param_distributions = {\n",
        "    \"n_neighbors\": [3, 5, 7, 9, 11, 13, 15],  # Valores para el número de vecinos\n",
        "    \"weights\": [\"uniform\", \"distance\"],  # Métodos de ponderación\n",
        "    \"metric\": [\"euclidean\", \"manhattan\", \"minkowski\"],  # Distancias\n",
        "    \"p\": [1, 2, 3, 4, 5]  # Parámetro p para 'minkowski'\n",
        "}\n",
        "\n",
        "# Configurar y ejecutar RandomizedSearchCV con 25 iteraciones y 5 validaciones cruzadas\n",
        "random_search = RandomizedSearchCV(\n",
        "    estimator=KNeighborsClassifier(),\n",
        "    param_distributions=param_distributions,\n",
        "    n_iter=25,  # Número de combinaciones a probar\n",
        "    scoring=\"accuracy\",\n",
        "    cv=5,  # Número de validaciones cruzadas\n",
        "    verbose=1,\n",
        "    random_state=42,\n",
        "    n_jobs=-1  # Usar todos los núcleos disponibles para acelerar\n",
        ")\n",
        "\n",
        "random_search.fit(X_train, y_train)\n",
        "\n",
        "# Mostrar resultados de la optimización\n",
        "print(\"\\nMejores hiperparámetros encontrados:\")\n",
        "print(random_search.best_params_)\n",
        "\n",
        "print(f\"\\nMejor precisión en validación cruzada: {random_search.best_score_:.2f}\")\n",
        "\n",
        "# Evaluar el modelo optimizado en el conjunto de prueba\n",
        "best_model = random_search.best_estimator_\n",
        "y_test_pred_optimized = best_model.predict(X_test)\n",
        "\n",
        "# Mostrar métricas del modelo optimizado\n",
        "print(\"\\n📊 Métricas del modelo optimizado en el conjunto de prueba:\")\n",
        "print(f\"Precisión: {accuracy_score(y_test, y_test_pred_optimized):.2f}\")\n",
        "print(\"\\nReporte de Clasificación:\")\n",
        "print(classification_report(y_test, y_test_pred_optimized))"
      ]
    },
    {
      "cell_type": "markdown",
      "metadata": {
        "id": "ZF49PnyIUdBx"
      },
      "source": [
        "### <font color='264CC7'> Guardado de modelo </font>"
      ]
    },
    {
      "cell_type": "markdown",
      "metadata": {
        "id": "4cJlETavUdBx"
      },
      "source": [
        "<div style=\"background-color: #edf1f8; border-color: #264CC7; border-left: 5px solid #264CC7; padding: 0.5em;\">\n",
        "<strong>Ejercicio:</strong><br>\n",
        "  Con los parámetros óptimos que mejor resultado dieron, reentrena el modelo, muestra su score y guárdalo.\n",
        "</div>"
      ]
    },
    {
      "cell_type": "code",
      "execution_count": 22,
      "metadata": {
        "id": "5mzs3NfrUdBx",
        "outputId": "3905ecbc-1784-4e46-e206-ccb59cca1d5a",
        "colab": {
          "base_uri": "https://localhost:8080/"
        }
      },
      "outputs": [
        {
          "output_type": "stream",
          "name": "stdout",
          "text": [
            "\n",
            "📊 Métricas del modelo más simple en el conjunto de prueba:\n",
            "Precisión: 0.87\n",
            "\n",
            "Reporte de Clasificación:\n",
            "              precision    recall  f1-score   support\n",
            "\n",
            "           0       0.87      0.99      0.93       377\n",
            "           1       0.79      0.16      0.27        67\n",
            "\n",
            "    accuracy                           0.87       444\n",
            "   macro avg       0.83      0.58      0.60       444\n",
            "weighted avg       0.86      0.87      0.83       444\n",
            "\n"
          ]
        }
      ],
      "source": [
        "# Configuración del modelo más simple\n",
        "simple_model_params = {'metric': 'manhattan', 'n_neighbors': 13, 'p': 1, 'weights': 'distance'}\n",
        "\n",
        "# Crear y entrenar el modelo con los parámetros más simples\n",
        "simple_knn_model = KNeighborsClassifier(\n",
        "    n_neighbors=simple_model_params['n_neighbors'],\n",
        "    weights=simple_model_params['weights'],\n",
        "    metric=simple_model_params['metric'],\n",
        "    p=simple_model_params['p']\n",
        ")\n",
        "\n",
        "# Entrenamiento con todo el conjunto de entrenamiento\n",
        "simple_knn_model.fit(X_train, y_train)\n",
        "\n",
        "# Evaluación en el conjunto de prueba\n",
        "y_test_pred_simple = simple_knn_model.predict(X_test)\n",
        "\n",
        "# Mostrar resultados del modelo\n",
        "print(\"\\n📊 Métricas del modelo más simple en el conjunto de prueba:\")\n",
        "print(f\"Precisión: {accuracy_score(y_test, y_test_pred_simple):.2f}\")\n",
        "print(\"\\nReporte de Clasificación:\")\n",
        "print(classification_report(y_test, y_test_pred_simple))"
      ]
    },
    {
      "cell_type": "code",
      "execution_count": 23,
      "metadata": {
        "id": "HPHgdA_fUdBx",
        "outputId": "e4932c19-9cbc-4a28-a1d2-acab597660a8",
        "colab": {
          "base_uri": "https://localhost:8080/"
        }
      },
      "outputs": [
        {
          "output_type": "stream",
          "name": "stdout",
          "text": [
            "\n",
            "Modelo más simple guardado como 'simple_knn_model.pkl'.\n"
          ]
        }
      ],
      "source": [
        "# Guardar el modelo entrenado\n",
        "simple_model_filename = \"simple_knn_model.pkl\"\n",
        "joblib.dump(simple_knn_model, simple_model_filename)\n",
        "print(f\"\\nModelo más simple guardado como '{simple_model_filename}'.\")"
      ]
    },
    {
      "cell_type": "markdown",
      "metadata": {
        "id": "SeBDSXpiUdBx"
      },
      "source": [
        "### <font color='264CC7'> Publicación </font>"
      ]
    },
    {
      "cell_type": "markdown",
      "metadata": {
        "id": "Bzt45vpzUdBx"
      },
      "source": [
        "<div style=\"background-color: #edf1f8; border-color: #264CC7; border-left: 5px solid #264CC7; padding: 0.5em;\">\n",
        "<strong>Ejercicio:</strong><br>\n",
        "  Coloca el este cuaderno y el modelo en tu repositorio de GitHub. Agrega una licencia MIT y un README.md donde se explique el contenido del repositorio, los datos utilizados y los resultados obtenidos.\n",
        "</div>"
      ]
    }
  ],
  "metadata": {
    "kernelspec": {
      "display_name": "Python 3",
      "language": "python",
      "name": "python3"
    },
    "language_info": {
      "codemirror_mode": {
        "name": "ipython",
        "version": 3
      },
      "file_extension": ".py",
      "mimetype": "text/x-python",
      "name": "python",
      "nbconvert_exporter": "python",
      "pygments_lexer": "ipython3",
      "version": "3.12.3"
    },
    "colab": {
      "provenance": []
    }
  },
  "nbformat": 4,
  "nbformat_minor": 0
}